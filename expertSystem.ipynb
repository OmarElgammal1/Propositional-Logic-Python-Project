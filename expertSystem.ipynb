{
 "cells": [
  {
   "cell_type": "markdown",
   "metadata": {},
   "source": [
    "### Imports:"
   ]
  },
  {
   "cell_type": "code",
   "execution_count": 265,
   "metadata": {},
   "outputs": [],
   "source": [
    "from aima.logic import  PropKB, dpll_satisfiable\n",
    "from aima.utils import expr,Expr"
   ]
  },
  {
   "cell_type": "markdown",
   "metadata": {},
   "source": [
    "### Problem Definition:\n",
    "Three different houses each contain a different pet, a different\n",
    "drink, and an inhaCitant of a different nationality. The following six\n",
    "facts are true aCout these houses:\n",
    "1. The man in the third (middle) house drinks milk.\n",
    "\n",
    "2. The Spaniard owns the dog.\n",
    "\n",
    "3. The Ukranian drinks the tea.\n",
    "\n",
    "4. The Norwegian lives in the first house.\n",
    "\n",
    "5. The Norwegian lives next to the tea-drinker.\n",
    "\n",
    "6. The juice-drinker owns the fox.\n",
    "\n",
    "Questions. Who owns the zebra? Who drinks juice?"
   ]
  },
  {
   "cell_type": "markdown",
   "metadata": {},
   "source": [
    "### Helping Functions"
   ]
  },
  {
   "cell_type": "code",
   "execution_count": 266,
   "metadata": {},
   "outputs": [],
   "source": [
    "def symbols_combinations(symbols, nationality):\n",
    "    \"\"\"\n",
    "    The function `symbols_combinations` takes a list of symbols and a list of nationalities, and returns\n",
    "    a list of combinations where each symbol is concatenated with each nationality.\n",
    "    \n",
    "    :param symbols: A list of symbols\n",
    "    :param nationality: A list of nationalities\n",
    "    :return: a list of combinations of symbols and nationalities.\n",
    "    \"\"\"\n",
    "    result = []\n",
    "    for symbol in symbols:\n",
    "        for human in nationality:\n",
    "            result.append(symbol + human)\n",
    "    return result"
   ]
  },
  {
   "cell_type": "code",
   "execution_count": 267,
   "metadata": {},
   "outputs": [],
   "source": [
    "def x_nationality_form(symbols):\n",
    "    \"\"\"\n",
    "    The function `x_nationality_form` takes a list of symbols and generates a set of rules based on the\n",
    "    symbols' combinations.\n",
    "    \n",
    "    :param symbols: The `symbols` parameter is a list of strings representing nationalities. Each string\n",
    "    in the list represents a nationality\n",
    "    :return: a list of rules. Each rule is a string representing a logical expression in the form of a\n",
    "    disjunction (OR) of conjunctions (AND).\n",
    "    \"\"\"\n",
    "    rules = []\n",
    "    count = 0\n",
    "    sentence = \"\"\n",
    "    for combination in symbols:\n",
    "        sentence = sentence + f\"({combination}\"\n",
    "        for remaining in symbols:\n",
    "            if combination != remaining and combination[0] == remaining[0]:\n",
    "                sentence = sentence + f\" & ~{remaining}\"\n",
    "        sentence = sentence + \")|\"\n",
    "        count += 1\n",
    "        if count % 3 == 0:\n",
    "            sentence = sentence[:-1]\n",
    "            rules.append(sentence)\n",
    "            sentence = \"\"\n",
    "    return rules"
   ]
  },
  {
   "cell_type": "code",
   "execution_count": 268,
   "metadata": {},
   "outputs": [],
   "source": [
    "def get_answer(results, query):\n",
    "    \"\"\"\n",
    "    The function `get_answer` takes in a dictionary of results and a query, and returns the value from\n",
    "    the results dictionary corresponding to the query.\n",
    "    \n",
    "    :param results: The \"results\" parameter is a dictionary or a data structure that contains the\n",
    "    possible answers to a query. Each answer is associated with a specific key or expression\n",
    "    :param query: A string representing the query or question that the user wants to ask\n",
    "    :return: The function `get_answer` returns the value at the index specified by the `query` in the\n",
    "    `results` list.\n",
    "    \"\"\"\n",
    "    return results[expr(query)]"
   ]
  },
  {
   "cell_type": "markdown",
   "metadata": {},
   "source": [
    "### Define combinations of Symbols:"
   ]
  },
  {
   "cell_type": "code",
   "execution_count": 269,
   "metadata": {},
   "outputs": [
    {
     "data": {
      "text/plain": [
       "['FU',\n",
       " 'FS',\n",
       " 'FN',\n",
       " 'ZU',\n",
       " 'ZS',\n",
       " 'ZN',\n",
       " 'DU',\n",
       " 'DS',\n",
       " 'DN',\n",
       " 'AU',\n",
       " 'AS',\n",
       " 'AN',\n",
       " 'BU',\n",
       " 'BS',\n",
       " 'BN',\n",
       " 'CU',\n",
       " 'CS',\n",
       " 'CN',\n",
       " 'MU',\n",
       " 'MS',\n",
       " 'MN',\n",
       " 'JU',\n",
       " 'JS',\n",
       " 'JN',\n",
       " 'TU',\n",
       " 'TS',\n",
       " 'TN']"
      ]
     },
     "execution_count": 269,
     "metadata": {},
     "output_type": "execute_result"
    }
   ],
   "source": [
    "pet_nationality = []\n",
    "house_nationality = []\n",
    "drink_nationality = []\n",
    "symbols = []\n",
    "# symbols\n",
    "houses = ['A','B','C']\n",
    "pets = ['F','Z','D']\n",
    "drinks = ['M','J','T']\n",
    "nationality = ['U','S','N']\n",
    "# combinations of symbols\n",
    "pet_nationality = symbols_combinations(pets, nationality)\n",
    "house_nationality = symbols_combinations(houses, nationality)\n",
    "drink_nationality = symbols_combinations(drinks, nationality)\n",
    "# add combinations\n",
    "symbols.extend(pet_nationality)\n",
    "symbols.extend(house_nationality)\n",
    "symbols.extend(drink_nationality)\n",
    "symbols"
   ]
  },
  {
   "cell_type": "markdown",
   "metadata": {},
   "source": [
    "### Form Knowledge base:"
   ]
  },
  {
   "cell_type": "code",
   "execution_count": 270,
   "metadata": {},
   "outputs": [
    {
     "data": {
      "text/plain": [
       "['(FU & ~FS & ~FN)|(FS & ~FU & ~FN)|(FN & ~FU & ~FS)',\n",
       " '(ZU & ~ZS & ~ZN)|(ZS & ~ZU & ~ZN)|(ZN & ~ZU & ~ZS)',\n",
       " '(DU & ~DS & ~DN)|(DS & ~DU & ~DN)|(DN & ~DU & ~DS)',\n",
       " '(AU & ~AS & ~AN)|(AS & ~AU & ~AN)|(AN & ~AU & ~AS)',\n",
       " '(BU & ~BS & ~BN)|(BS & ~BU & ~BN)|(BN & ~BU & ~BS)',\n",
       " '(CU & ~CS & ~CN)|(CS & ~CU & ~CN)|(CN & ~CU & ~CS)',\n",
       " '(MU & ~MS & ~MN)|(MS & ~MU & ~MN)|(MN & ~MU & ~MS)',\n",
       " '(JU & ~JS & ~JN)|(JS & ~JU & ~JN)|(JN & ~JU & ~JS)',\n",
       " '(TU & ~TS & ~TN)|(TS & ~TU & ~TN)|(TN & ~TU & ~TS)',\n",
       " '(FN & ~ZN & ~DN) | (~FN & ZN & ~DN) | (~FN & ~ZN & DN)',\n",
       " '(FS & ~ZS & ~DS) | (~FS & ZS & ~DS) | (~FS & ~ZS & DS)',\n",
       " '(FU & ~ZU & ~DU) | (~FU & ZU & ~DU) | (~FU & ~ZU & DU)',\n",
       " '(CU & MU & ~MN & ~MS & ~AU & ~BU) | (CS & MS & ~MN & ~MU & ~AS & ~BS) | (CN & MN & ~MU & ~MS & ~AN & ~BN)',\n",
       " 'DS',\n",
       " 'TU',\n",
       " 'AN',\n",
       " '(~TN & TU & AN) ==> BU',\n",
       " '(JU & FU & ~FN & ~FS & ~TU & ~MU) | (JN & FN & ~FU & ~FS & ~TN & ~MN) | (JS & FS & ~FN & ~FU & ~TS & ~MS)']"
      ]
     },
     "execution_count": 270,
     "metadata": {},
     "output_type": "execute_result"
    }
   ],
   "source": [
    "rules = []\n",
    "# General Knowledge base\n",
    "one_pet_for_person = [\"(FN & ~ZN & ~DN) | (~FN & ZN & ~DN) | (~FN & ~ZN & DN)\", \"(FS & ~ZS & ~DS) | (~FS & ZS & ~DS) | (~FS & ~ZS & DS)\",\"(FU & ~ZU & ~DU) | (~FU & ZU & ~DU) | (~FU & ~ZU & DU)\"]\n",
    "rules.extend(x_nationality_form(pet_nationality))\n",
    "rules.extend(x_nationality_form(house_nationality))\n",
    "rules.extend(x_nationality_form(drink_nationality))\n",
    "rules.extend(one_pet_for_person)\n",
    "# Specific Knowledge base\n",
    "s1 = \"(CU & MU & ~MN & ~MS & ~AU & ~BU) | (CS & MS & ~MN & ~MU & ~AS & ~BS) | (CN & MN & ~MU & ~MS & ~AN & ~BN)\"\n",
    "s6 = \"(JU & FU & ~FN & ~FS & ~TU & ~MU) | (JN & FN & ~FU & ~FS & ~TN & ~MN) | (JS & FS & ~FN & ~FU & ~TS & ~MS)\"\n",
    "rules.append(s1)\n",
    "rules.extend([\"DS\", \"TU\", \"AN\", \"(~TN & TU & AN) ==> BU\"])\n",
    "rules.append(s6)\n",
    "rules"
   ]
  },
  {
   "cell_type": "markdown",
   "metadata": {},
   "source": [
    "### Use Propositional logic for representation"
   ]
  },
  {
   "cell_type": "code",
   "execution_count": 271,
   "metadata": {},
   "outputs": [],
   "source": [
    "prop_KB = PropKB()\n",
    "for rule in rules:\n",
    "    prop_KB.tell(expr(rule))"
   ]
  },
  {
   "cell_type": "markdown",
   "metadata": {},
   "source": [
    "### Use DPLL for Inference"
   ]
  },
  {
   "cell_type": "code",
   "execution_count": 272,
   "metadata": {},
   "outputs": [],
   "source": [
    "results = dpll_satisfiable(Expr(\"&\", *prop_KB.clauses))"
   ]
  },
  {
   "cell_type": "markdown",
   "metadata": {},
   "source": [
    "### Ask Questions"
   ]
  },
  {
   "cell_type": "code",
   "execution_count": 273,
   "metadata": {},
   "outputs": [
    {
     "name": "stdout",
     "output_type": "stream",
     "text": [
      "{'Ukranian': True, 'Spaniard': False, 'Norwegian': False}\n",
      "{'Ukranian': False, 'Spaniard': False, 'Norwegian': True}\n"
     ]
    }
   ],
   "source": [
    "# who owns zebra\n",
    "print({\"Ukranian\":get_answer(results,\"ZU\"), \"Spaniard\":get_answer(results,\"ZS\"), \"Norwegian\":get_answer(results,\"ZN\")})\n",
    "\n",
    "# who drink juice\n",
    "print({\"Ukranian\":get_answer(results,\"JU\"), \"Spaniard\":get_answer(results,\"JS\"), \"Norwegian\":get_answer(results,\"JN\")})"
   ]
  }
 ],
 "metadata": {
  "kernelspec": {
   "display_name": "Python 3",
   "language": "python",
   "name": "python3"
  },
  "language_info": {
   "codemirror_mode": {
    "name": "ipython",
    "version": 3
   },
   "file_extension": ".py",
   "mimetype": "text/x-python",
   "name": "python",
   "nbconvert_exporter": "python",
   "pygments_lexer": "ipython3",
   "version": "3.10.6"
  }
 },
 "nbformat": 4,
 "nbformat_minor": 2
}
