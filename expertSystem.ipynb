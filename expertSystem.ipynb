{
 "cells": [
  {
   "cell_type": "markdown",
   "metadata": {},
   "source": [
    "### Imports:"
   ]
  },
  {
   "cell_type": "code",
   "execution_count": 7,
   "metadata": {},
   "outputs": [],
   "source": [
    "from aima import logic\n",
    "from aima.logic import  PropKB,dpll_satisfiable\n",
    "from aima.utils import expr,Expr"
   ]
  },
  {
   "cell_type": "markdown",
   "metadata": {},
   "source": [
    "### Problem Definition:\n",
    "Three different houses each contain a different pet, a different\n",
    "drink, and an inhabitant of a different nationality. The following six\n",
    "facts are true about these houses:\n",
    "1. The man in the third (middle) house drinks milk.\n",
    "\n",
    "2. The Spaniard owns the dog.\n",
    "\n",
    "3. The Ukranian drinks the tea.\n",
    "\n",
    "4. The Norwegian lives in the first house.\n",
    "\n",
    "5. The Norwegian lives next to the tea-drinker.\n",
    "\n",
    "6. The juice-drinker owns the fox.\n",
    "\n",
    "Questions. Who owns the zebra? Who drinks juice?"
   ]
  },
  {
   "cell_type": "markdown",
   "metadata": {},
   "source": [
    "### Define combination of Symbols:"
   ]
  },
  {
   "cell_type": "code",
   "execution_count": 1,
   "metadata": {},
   "outputs": [
    {
     "name": "stdout",
     "output_type": "stream",
     "text": [
      "['AU', 'AS', 'AN', 'BU', 'BS', 'BN', 'CU', 'CS', 'CN']\n",
      "['MU', 'MS', 'MN', 'JU', 'JS', 'JN', 'TU', 'TS', 'TN']\n"
     ]
    }
   ],
   "source": [
    "pet_nationality = []\n",
    "house_nationality = []\n",
    "drink_nationality = []\n",
    "houses = ['A','B','C']\n",
    "pets = ['F','Z','D']\n",
    "drinks = ['M','J','T']\n",
    "nationality = ['U','S','N']\n",
    "for pet in pets:\n",
    "    for human in nationality:\n",
    "        pet_nationality.append(pet + human)\n",
    "\n",
    "for house in houses:\n",
    "    for human in nationality:\n",
    "        house_nationality.append(house + human)\n",
    "\n",
    "for drink in drinks:\n",
    "    for human in nationality:\n",
    "        drink_nationality.append(drink + human)\n",
    "\n",
    "pet_nationality\n",
    "house_nationality\n",
    "drink_nationality"
   ]
  },
  {
   "cell_type": "markdown",
   "metadata": {},
   "source": [
    "### Form General Knowledge:"
   ]
  },
  {
   "cell_type": "code",
   "execution_count": 17,
   "metadata": {},
   "outputs": [],
   "source": [
    "def form_general_KB(symbols):\n",
    "    '''The function `form_general_KB` takes a list of symbols as input and generates a set of rules in the\n",
    "    form of logical sentences.\n",
    "    \n",
    "    Parameters\n",
    "    ----------\n",
    "    symbols\n",
    "        The `symbols` parameter is a list of strings representing logical symbols or propositions.\n",
    "    \n",
    "    Returns\n",
    "    -------\n",
    "        The function `form_general_KB` returns a list of rules.\n",
    "    \n",
    "    '''\n",
    "    rules = []\n",
    "    count = 0\n",
    "    sentence = \"\"\n",
    "    for combination in symbols:\n",
    "        sentence = sentence + f\"( {combination}\"\n",
    "        for remaining in symbols:\n",
    "            if combination != remaining and combination[0] == remaining[0]:\n",
    "                sentence = sentence + f\" & ~{remaining}\"\n",
    "        sentence = sentence + \") | \"\n",
    "        count += 1\n",
    "        if count % 3 == 0:\n",
    "            sentence = sentence[:-3]\n",
    "            rules.append(sentence)\n",
    "            sentence = \"\"\n",
    "    \n",
    "    return rules"
   ]
  },
  {
   "cell_type": "code",
   "execution_count": null,
   "metadata": {},
   "outputs": [],
   "source": [
    "rules = []\n",
    "rules.append(form_general_KB(pet_nationality))\n",
    "rules.append(form_general_KB(house_nationality))\n",
    "rules.append(form_general_KB(drink_nationality))\n",
    "# convert to 1d list\n",
    "rules = [j for sub in rules for j in sub]\n",
    "rules"
   ]
  },
  {
   "cell_type": "markdown",
   "metadata": {},
   "source": [
    "### Form Specific Knowledge base"
   ]
  },
  {
   "cell_type": "code",
   "execution_count": null,
   "metadata": {},
   "outputs": [],
   "source": [
    "sentence = \"((BU & MU) & ~(BS & MS) & ~(BN & MN)) | (~(BU & MU) & (BS & MS) & ~(BN & MN)) | (~(BU & MU) & ~(BS & MS) & (BN & MN))\"\n",
    "rules.append(sentence)\n",
    "rules.extend([\"DS\",\"TU\",\"AN\",\"~TN\",\"~((BU & TU) | (BS & TS))\"])"
   ]
  }
 ],
 "metadata": {
  "kernelspec": {
   "display_name": "Python 3",
   "language": "python",
   "name": "python3"
  },
  "language_info": {
   "codemirror_mode": {
    "name": "ipython",
    "version": 3
   },
   "file_extension": ".py",
   "mimetype": "text/x-python",
   "name": "python",
   "nbconvert_exporter": "python",
   "pygments_lexer": "ipython3",
   "version": "3.10.6"
  }
 },
 "nbformat": 4,
 "nbformat_minor": 2
}
